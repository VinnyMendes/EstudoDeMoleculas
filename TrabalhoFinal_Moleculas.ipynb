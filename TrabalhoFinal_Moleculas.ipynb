{
  "nbformat": 4,
  "nbformat_minor": 0,
  "metadata": {
    "colab": {
      "provenance": []
    },
    "kernelspec": {
      "name": "python3",
      "display_name": "Python 3"
    },
    "language_info": {
      "name": "python"
    }
  },
  "cells": [
    {
      "cell_type": "code",
      "execution_count": 1,
      "metadata": {
        "colab": {
          "base_uri": "https://localhost:8080/"
        },
        "id": "Aaffex3QCWHc",
        "outputId": "f17f4778-ba0d-4c05-a757-6f48dd2bad27"
      },
      "outputs": [
        {
          "output_type": "stream",
          "name": "stdout",
          "text": [
            "Looking in indexes: https://pypi.org/simple, https://us-python.pkg.dev/colab-wheels/public/simple/\n",
            "Collecting rdkit\n",
            "  Downloading rdkit-2022.9.2-cp37-cp37m-manylinux_2_17_x86_64.manylinux2014_x86_64.whl (29.1 MB)\n",
            "\u001b[K     |████████████████████████████████| 29.1 MB 1.4 MB/s \n",
            "\u001b[?25hRequirement already satisfied: numpy in /usr/local/lib/python3.7/dist-packages (from rdkit) (1.21.6)\n",
            "Requirement already satisfied: Pillow in /usr/local/lib/python3.7/dist-packages (from rdkit) (7.1.2)\n",
            "Installing collected packages: rdkit\n",
            "Successfully installed rdkit-2022.9.2\n"
          ]
        }
      ],
      "source": [
        "# sdv em https://www.thermofisher.com/br/en/home/global/forms/lab-solutions/maybridge-library/thank-you.html?form-submit-token=c774473e6e2a99d5d9491ce37986acd&form-submit-id=LCD_PR_FM_0720_MaybridgeLibrary_GLB\n",
        "pip install rdkit"
      ]
    },
    {
      "cell_type": "code",
      "source": [
        "#importando o rdkit e os modulos necessarios\n",
        "from rdkit import Chem\n",
        "from rdkit.Chem import Descriptors, Crippen, Lipinski, MolSurf, rdMolDescriptors, MACCSkeys, PropertyMol"
      ],
      "metadata": {
        "id": "ArnJuxCvDtpM"
      },
      "execution_count": 2,
      "outputs": []
    },
    {
      "cell_type": "code",
      "source": [
        "#carregando a base de dados em sdf\n",
        "suppl = Chem.SDMolSupplier('./drive/MyDrive/Maybridge_Screening_collection.sdf')\n",
        "\n",
        "#tamanho da base de dados\n",
        "n_mols = len(suppl)\n",
        "\n",
        "i = suppl[0]\n",
        "\n",
        "# lista os nomes das colunas\n",
        "colunas = i.GetPropNames()\n",
        "for j in colunas:\n",
        "    print(j)\n",
        "\n",
        "#testando os valores da base de dados\n",
        "\n",
        "#SMILES \n",
        "print(i.GetProp(\"New_SMILES\")) \n",
        "\n",
        "# Molecular_formula\n",
        "print(i.GetProp(\"MF\")) \n",
        "\n",
        "#ExactMolWt\n",
        "print(i.GetProp(\"MWt\")) \n",
        "\n",
        "#NumRotatableBonds\n",
        "print(i.GetProp(\"rotatable_bonds\")) \n",
        "\n",
        "#MolLogP\n",
        "print(i.GetProp(\"c_log_p\")) \n",
        "\n",
        "#RingCount\n",
        "print(i.GetRingInfo().NumRings()) \n",
        "\n",
        "# NumHAcceptors\n",
        "print(i.GetProp(\"h_bond_acceptors\")) \n",
        "\n",
        "# TPSA\n",
        "print(i.GetProp(\"PSA\")) \n",
        "\n",
        "# NumHDonors\n",
        "print(i.GetProp(\"h_bond_donors\")) \n",
        "\n",
        "#ID\n",
        "print(i.GetProp(\"code\"))"
      ],
      "metadata": {
        "colab": {
          "base_uri": "https://localhost:8080/"
        },
        "id": "SuVyCyLkCiHa",
        "outputId": "c3114c87-c9f2-4977-824b-00f206c19ab3"
      },
      "execution_count": 7,
      "outputs": [
        {
          "output_type": "stream",
          "name": "stdout",
          "text": [
            "MF\n",
            "MWt\n",
            "code\n",
            "purity\n",
            "product_name\n",
            "PARENT_MW\n",
            "acd_code\n",
            "c_log_p\n",
            "h_bond_acceptors\n",
            "FLEXIBILITY\n",
            "PSA\n",
            "h_bond_donors\n",
            "rotatable_bonds\n",
            "hetero_atom_no\n",
            "New_SMILES\n",
            "O=C1OC2=C(C=CC=C2)C=C1C(OC(C)CNC3=CC=C(C(F)(F)F)C=C3[N+]([O-])=O)=O\n",
            "C20 H15 F3 N2 O6\n",
            "436.341\n",
            "6\n",
            "4.9\n",
            "3\n",
            "8\n",
            "114.36\n",
            "1\n",
            "BTB05481\n"
          ]
        }
      ]
    },
    {
      "cell_type": "code",
      "source": [
        "#nome das colunas a serem criadas no arquivo csv\n",
        "header = ['id','smiles','molecular_formula','exact_mol_wt','num_rotatable_bonds','mol_log_p','ring_count','num_h_acceptors','tpsa','num_h_donors']\n",
        "\n",
        "#variavel para armazenar os valores que irao para o csv\n",
        "data = []\n",
        "\n",
        "#conta quantas vezes o codigo tentou adicionar uma molécula, mas tinham valores nulos\n",
        "contador_de_erro = 0\n",
        "\n",
        "#loop para adicionar no array o conteudo que ira para o csv\n",
        "for i in suppl:\n",
        "  try:\n",
        "    data.append(\n",
        "        [\n",
        "        i.GetProp(\"code\"), \n",
        "        i.GetProp(\"New_SMILES\"), \n",
        "        i.GetProp(\"MF\"), \n",
        "        i.GetProp(\"MWt\"),\n",
        "        i.GetProp(\"rotatable_bonds\"),\n",
        "        i.GetProp(\"c_log_p\"),\n",
        "        i.GetRingInfo().NumRings(),\n",
        "        i.GetProp(\"h_bond_acceptors\"),\n",
        "        i.GetProp(\"PSA\"),\n",
        "        i.GetProp(\"h_bond_donors\")\n",
        "        ])\n",
        "  except:\n",
        "    contador_de_erro = contador_de_erro + 1\n",
        "\n",
        "#teste para ver os primeiros 100 elementos do array de valores\n",
        "print(data[: 100])\n"
      ],
      "metadata": {
        "colab": {
          "base_uri": "https://localhost:8080/"
        },
        "id": "hVYvMZKPRZtu",
        "outputId": "1c4ddfd3-7852-458f-c8eb-ed43b9a41aab"
      },
      "execution_count": 4,
      "outputs": [
        {
          "output_type": "stream",
          "name": "stdout",
          "text": [
            "[['BTB05481', 'O=C1OC2=C(C=CC=C2)C=C1C(OC(C)CNC3=CC=C(C(F)(F)F)C=C3[N+]([O-])=O)=O', 'C20 H15 F3 N2 O6', '436.341', '6', '4.9', 3, '8', '114.36', '1'], ['BTB05482', 'O=[N+]([O-])C1=CC(C(F)(F)F)=CC=C1NCC(C)OC(C2=CC=C([N+]([O-])=O)O2)=O', 'C15 H12 F3 N3 O7', '403.268', '6', '3.3', 2, '10', '143.11', '1'], ['BTB03838', 'CC1=CC(OC2=NC=C([N+]([O-])=O)C=C2)=CC=C1Cl', 'C12 H9 Cl N2 O3', '264.667', '2', '3.76', 2, '5', '67.94', '0'], ['AW00580', 'CC1=NC(C2=CC=C(S(NC3=CC(Cl)=C(Cl)C=C3Cl)(=O)=O)S2)=CS1', 'C14 H9 Cl3 N2 O2 S3', '439.794', '4', '4.52', 3, '4', '59.06', '1'], ['BTB03829', 'CC1=CC(OC2=NC=C(N)C=C2)=CC(C)=C1Cl', 'C13 H13 Cl N2 O', '248.712', '2', '3.05', 2, '3', '48.14', '1'], ['BTB03840', 'FC1=CC=CC=C1OC2=NC=C([N+]([O-])=O)C=C2', 'C11 H7 F N2 O3', '234.185', '2', '2.74', 2, '5', '67.94', '0'], ['RH00408', 'FC1=C(OC(NC2=CC=CC=C2)=O)C(OC(NC3=CC=CC=C3)=O)=CC=C1', 'C20 H15 F N2 O4', '366.346', '6', '4.23', 3, '6', '76.66', '2'], ['RH00411', 'O=C1C2=CC=C(OC(C3=CC=CN=C3OC4=CC=CC=C4)=O)C=C2OC(C(OCC)=O)=C1', 'C24 H17 N O7', '431.398', '8', '3.31', 4, '8', '104.93', '0'], ['KM09901', 'O=S(N1CCC(CC1)C(C2=CC=CC=C2)C3=CC=CC=C3)(C4=CC=C(Cl)S4)=O', 'C22 H22 Cl N O2 S2', '432.006', '5', '5.6', 4, '3', '37.38', '0'], ['KM09902', 'O=S(N1CCN(CC1)C2=CC=CC=C2)(C3=CC=CS3)=O', 'C14 H16 N2 O2 S2', '308.424', '3', '2.09', 3, '4', '40.62', '0'], ['KM09899', 'O=[N+]([O-])C1=C(SC=C1)N(CC2)CCC2C(OCC)=O', 'C12 H16 N2 O4 S', '284.334', '4', '1.2', 2, '6', '75.36', '0'], ['KM09907', 'CC1=NN(C)C2=C1C(N(CC3)CCC3C(OCC)=O)=C(C(OCC)=O)C=N2', 'C19 H26 N4 O4', '374.438', '7', '1.65', 3, '8', '86.55', '0'], ['BTB01987', 'S=C(NC1=C(Cl)C=CC(Cl)=C1)NC2=C(NCCC3=NC=CC=C3)C=CC(C(F)(F)F)=C2', 'C21 H17 Cl2 F3 N4 S', '485.359', '8', '5.4', 3, '4', '48.98', '3'], ['AW00576', 'N#C/C(C1=CC(C(F)(F)F)=CC=C1)=C\\\\C(C=C2)=C(Cl)C=C2Cl', 'C16 H8 Cl2 F3 N', '342.146', '3', '5.85', 2, '1', '23.79', '0'], ['AW00577', 'FC(F)(F)C1=CC=NC(N(CC2)CCC2O)=N1', 'C10 H12 F3 N3 O', '247.219', '1', '1.83', 2, '4', '49.25', '1'], ['KM09920', 'O=S(CCN1CCN(CC1)C(C2=CC=CC=C2)C3=CC=CC=C3)(C(C=C4)=CC=C4F)=O', 'C25 H27 F N2 O2 S', '438.564', '7', '5.11', 4, '4', '40.62', '0'], ['KM09923', 'O=S(C1=CC=CC2=NSN=C12)(N(CC3)CCN3C4=CC=CC=C4)=O', 'C16 H16 N4 O2 S2', '360.46', '3', '2.32', 4, '6', '66.4', '0'], ['KM09928', 'O=C1C2=C(CO1)C=CC(NC(NCC3=CC=CO3)=S)=C2', 'C14 H12 N2 O3 S', '288.326', '5', '1.4', 3, '5', '63.5', '2'], ['BTB01952', 'O=C(NC(C=C1)=CC2=C1OCOC2)C(C(C3=CC=CC=C3Cl)=NO4)=C4C', 'C19 H15 Cl N2 O4', '370.79', '3', '3.76', 4, '6', '73.59', '1'], ['AW00585', 'CC1=CC=CC(C)=C1NC(C(C)N2CCCC2)=O', 'C15 H22 N2 O', '246.352', '3', '2.88', 2, '3', '32.34', '1'], ['AW00589', 'N#C/C(C1=CC(C(F)(F)F)=CC=C1)=C\\\\C(C=C2)=CC=C2C(F)(F)F', 'C17 H9 F6 N', '341.253', '3', '6.1', 2, '1', '23.79', '0'], ['KM09930', 'O=C1C2=C(CO1)C=CC(NC(NC(C=C3)=CC=C3Cl)=S)=C2', 'C15 H11 Cl N2 O2 S', '318.783', '4', '2.91', 3, '4', '50.36', '2'], ['KM09934', 'O=S(C1=CC=CC2=NSN=C12)(N(CC3)CCC3C(OCC)=O)=O', 'C14 H17 N3 O4 S2', '355.437', '5', '2.31', 3, '7', '89.47', '0'], ['BTB02016', 'FC(F)(F)C1=CC(/N=C/C2=C(O)C=CC(Br)=C2)=C(NCCC3=CC=CC=C3)C=C1', 'C22 H18 Br F3 N2 O', '463.295', '7', '6.1', 3, '3', '44.62', '2'], ['BTB05488', 'O=[N+]([O-])C1=CC(C(F)(F)F)=CC=C1NCCOC(C2=CC=C([N+]([O-])=O)O2)=O', 'C14 H10 F3 N3 O7', '389.241', '6', '2.89', 2, '10', '143.11', '1'], ['BTB05489', 'O=C1OC2=C(C=C1C(OCCNC(C([N+]([O-])=O)=C3)=CC=C3C(F)(F)F)=O)C=CC=C2', 'C19 H13 F3 N2 O6', '422.314', '6', '4.5', 3, '8', '114.36', '1'], ['BTB03853', 'O=C(N)C(C=CC=C1)=C1N2CCCCC2', 'C12 H16 N2 O', '204.271', '2', '1.84', 2, '3', '46.33', '1'], ['NRB00253', 'N#CC1=CC=CC=C1NC(CSC2=NC=CC=N2)=O', 'C13 H10 N4 O S', '270.315', '4', '2.38', 2, '5', '78.67', '1'], ['KM09940', 'O=C1C2=C(CO1)C=CC(NC(NC(C=C3)=CC=C3F)=S)=C2', 'C15 H11 F N2 O2 S', '302.328', '4', '2.39', 3, '4', '50.36', '2'], ['MWP00720', 'CC(C(C=CC=C1)=C1S2)=C2/C=C/C(NC3=NC=CS3)=O', 'C15 H12 N2 O S2', '300.405', '4', '3.09', 3, '3', '41.99', '1'], ['MWP00737', 'CC1=C(/C=C/C(OC(C=C2)=CC=C2C#N)=O)SC3=CC=CC=C31', 'C19 H13 N O2 S', '319.383', '5', '4.32', 3, '3', '50.09', '0'], ['MWP00739', 'CC1=C(/C=C/C(OC(C=C2)=CC=C2OC)=O)SC3=CC=CC=C31', 'C19 H16 O3 S', '324.398', '6', '4.38', 3, '3', '35.53', '0'], ['MWP00742', 'CC1=C(COC(C2=CC=CC=C2)=O)SC3=C1C=CC=C3', 'C17 H14 O2 S', '282.362', '4', '4.7', 3, '2', '26.3', '0'], ['NRB00257', 'ClC1=CC(NC(CSC2=NC(C)=CC(C)=N2)=O)=CC=C1F', 'C14 H13 Cl F N3 O S', '325.794', '4', '3.64', 2, '4', '54.88', '1'], ['BTB01974', 'O=C(NC1=CC(C(F)(F)F)=CC=C1NCCC(C=C2)=CC(OC)=C2OC)C(C(C3=C(Cl)C=CC=C3)=NO4)=C4C', 'C28 H25 Cl F3 N3 O4', '559.969', '9', '5.69', 4, '7', '85.62', '2'], ['BTB01953', 'O=C(C(C=C1)=CC=C1S(N(CCC)CCC)(=O)=O)NC2=CC3=C(OCOC3)C=C2', 'C21 H26 N2 O5 S', '418.511', '8', '2.94', 3, '7', '84.94', '1'], ['BTB01963', 'COC(C(OC)=C1)=C(OC)C=C1CNC2=CC=CC(F)=C2', 'C16 H18 F N O3', '291.32', '6', '2.3', 2, '4', '39.72', '1'], ['BTB01964', 'FC1=CC=CC(NCC2=CC(OCO3)=C3C=C2)=C1', 'C14 H12 F N O2', '245.252', '3', '2.39', 3, '3', '30.49', '1'], ['MWP00743', 'CC1=C(COC(C2=CC=C(Cl)C=C2Cl)=O)SC3=C1C=CC=C3', 'C17 H12 Cl2 O2 S', '351.252', '4', '5.56', 3, '2', '26.3', '0'], ['BTB01997', 'FC(F)(F)C1=CC(NC=C(C(N2)=O)C(NC2=S)=O)=CC(C(F)(F)F)=C1', 'C13 H7 F6 N3 O2 S', '383.271', '3', '3.94', 2, '5', '70.23', '3'], ['BTB01998', 'FC(F)(F)C1=CC(NC=C(C(N2)=O)C(NC2=O)=O)=CC(C(F)(F)F)=C1', 'C13 H7 F6 N3 O3', '367.204', '3', '3.23', 2, '6', '87.3', '3'], ['MWP00750', 'CC(C(C=CC=C1)=C1S2)=C2COC(NC(C=C3)=C(Cl)C=C3Cl)=O', 'C17 H13 Cl2 N O2 S', '366.267', '4', '6.1', 3, '3', '38.33', '1'], ['KM09914', 'O=S(C1=CC=C(Cl)S1)(N(CC2)CCN2CC3=CC=CC=C3)=O', 'C15 H17 Cl N2 O2 S2', '356.896', '4', '3.53', 3, '4', '40.62', '0'], ['KM09942', 'O=S(N1C(C=CC=C2)=C2CC1)(C3=CC=CC4=NSN=C34)=O', 'C14 H11 N3 O2 S2', '317.392', '2', '2.33', 4, '5', '63.16', '0'], ['BTB02003', 'OC1=C(C(OCC)=O)C=NC2=C1C=CC=C2F', 'C12 H10 F N O3', '235.213', '3', '2.66', 2, '4', '59.42', '1'], ['BTB02024', 'OC(C1=O)(CC(C(C=C2)=CC=C2OC)=O)C(C=C3Br)=C(C=C3)N1CN4CCOCC4', 'C22 H23 Br N2 O5', '475.337', '6', '2.43', 4, '7', '79.31', '1'], ['RJC00488', 'NCC(C1=CC=CC=C1)C(C=C2)=CC3=C2OCCO3.Cl', 'C16 H17 N O2 . Cl H', '291.776', '3', '2.54', 3, '3', '44.48', '1'], ['RJC00489', 'CCCCCCC1=NC=C(C=N1)C(C=C2)=CC=C2CCCCCCCCC', 'C25 H38 N2', '366.589', '14', '6.1', 2, '2', '25.78', '0'], ['AW00591', 'O=S(C1=CC=C(Cl)C=C1)(N(CCC2)CCN2C3=NC=C([N+]([O-])=O)C=C3)=O', 'C16 H17 Cl N4 O4 S', '396.853', '3', '3.38', 3, '8', '99.33', '0'], ['MWP00729', 'CC(C1=CC=CC=C1S2)=C2/C=C/C(NC(C=C3)=CC=C3F)=O', 'C18 H14 F N O S', '311.379', '4', '4.57', 3, '2', '29.1', '1'], ['MWP00733', 'CC(C1=CC=CC=C1S2)=C2/C=C/C(SC(C=C3)=CC=C3C)=O', 'C19 H16 O S2', '324.466', '5', '5.35', 3, '1', '17.07', '0'], ['NRB00259', 'FC(F)(F)OC1=CC=C(NC(CSCCSCC(NC(C=C2)=CC=C2OC(F)(F)F)=O)=O)C=C1', 'C20 H18 F6 N2 O4 S2', '528.492', '11', '4.73', 2, '6', '76.66', '2'], ['NRB00262', 'O=C(CSC1=NC(C)=CC(C)=N1)NC(C=C2)=CC=C2C(OCC)=O', 'C17 H19 N3 O3 S', '345.421', '7', '2.76', 2, '6', '81.18', '1'], ['RJC00493', 'O=[N+]([O-])C1=CC=C(C=C1)C(N=C2)=NC=C2CCCCCC', 'C16 H19 N3 O2', '285.345', '6', '4.68', 2, '5', '71.6', '0'], ['MWP00738', 'CC(C(C=CC=C1)=C1S2)=C2/C=C/C(OC3=C(Cl)C=CC=C3Cl)=O', 'C18 H12 Cl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r)C(C)=C1)=O)=O)C=C2)=C2Br', 'C20 H22 Br2 N2 O2 S2', '546.346', '9', '5.59', 2, '4', '58.2', '2'], ['RJC00448', 'OC(CSC1=C(C=CC=C2)C2=CC=C1)=O', 'C12 H10 O2 S', '218.275', '3', '3.39', 2, '2', '37.3', '1'], ['BTB01955', 'FC(C(C=C1N)=CC=C1NCC2=CC=CC=C2)(F)F', 'C14 H13 F3 N2', '266.265', '3', '3.62', 2, '2', '38.05', '2'], ['BTB07041', 'CC(C)(C)C(CC1=O)=NN1C', 'C8 H14 N2 O', '154.212', '1', '1.78', 1, '3', '32.67', '0'], ['BTB07050', 'O=C(NC(C=C1)=CC=C1F)C(C(C2=C(Cl)C=CC=C2Cl)=NO3)=C3C', 'C17 H11 Cl2 F N2 O2', '365.19', '3', '4.73', 3, '4', '55.13', '1'], ['BTB07048', 'CC1=NN(N=C1C(OC2=CC=C(CC#N)C=C2)=O)C3=CC=CC=C3', 'C18 H14 N4 O2', '318.335', '5', '2.45', 3, '6', '80.8', '0'], ['MWP00691', 'CC1=C(SC=C1)/C=C/C2=NC(SCC(NC3=CC=C(C(C)C)C=C3)=O)=NC=C2', 'C22 H23 N3 O S2', '409.576', '8', '4.95', 3, '4', '54.88', '1'], ['KM09917', 'O=C1C2=C(CO1)C=CC(NC(NC3=CC=C(OC)C=C3)=S)=C2', 'C16 H14 N2 O3 S', '314.364', '5', '1.83', 3, '5', '59.59', '2'], ['KM09919', 'O=C(N1CCC)N(C(N)=CC1=O)C2=C(C)C=CC=C2', 'C14 H17 N3 O2', '259.307', '3', '1.13', 2, '5', '70.02', '1'], ['BTB02012', 'FC1=CC=C(C=C1)C2=CN3C(CC4=CC=CC=C4C3)=N2.Br', 'C17 H13 F N2 . Br H', '345.214', '1', '3.61', 4, '2', '17.82', '0'], ['BTB02015', 'O=C(OCC)C(C(OCC)=O)=CNC1=CC(NN=N2)=C2C=C1', 'C14 H16 N4 O4', '304.304', '9', '1.82', 2, '8', '106.2', '2'], ['BTB05474', 'O=C(N1CC=C)C(C=C2OC)=C(NC1=S)C(OC)=C2OC', 'C14 H16 N2 O4 S', '308.356', '5', '1.45', 2, '6', '65.48', '1'], ['BTB05480', 'FC1=CC=C(C=C1)C2=CC=C3C(C=CC=C3)=N2', 'C15 H10 F N', '223.249', '1', '3.78', 3, '1', '12.89', '0'], ['BTB05495', 'CC1=C(C(OC2=O)=NC(C(OC)=C3OC)=C2C=C3OC)C(C4=C(F)C=CC=C4Cl)=NO1', 'C21 H16 Cl F N2 O6', '446.816', '5', '3.87', 4, '8', '96.82', '0'], ['BTB05497', 'O=[N+]([O-])C1=CN=C(NCCO)C=C1', 'C7 H9 N3 O3', '183.166', '3', '0.65', 1, '6', '90.97', '2'], ['KM09903', 'O=S(N1CCC(CC1)C(C2=CC=CC=C2)C3=CC=CC=C3)(C4=CC=CS4)=O', 'C22 H23 N O2 S2', '397.561', '5', '4.68', 4, '3', '37.38', '0'], ['KM09905', 'ClC1=C2C(C(N(CC3)CCC3C(OCC)=O)=CC(C(F)(F)F)=N2)=CC=C1', 'C18 H18 Cl F3 N2 O2', '386.799', '4', '4.66', 3, '4', '42.43', '0'], ['BTB05486', 'O=C1OC(C2=CC=C([N+]([O-])=O)O2)=NC(C=C3)=C1C=C3C', 'C13 H8 N2 O5', '272.215', '1', '2.43', 3, '7', '102.06', '0'], ['BTB05490', 'O=[N+]([O-])C1=CC(C(F)(F)F)=CC=C1NC(C)(C)COC(C(C(O2)=O)=CC3=C2C=CC=C3)=O', 'C21 H17 F3 N2 O6', '450.367', '6', '5.13', 3, '8', '114.36', '1'], ['BTB01959', 'O=[N+]([O-])C1=CC(C(F)(F)F)=CC=C1NCCC(C=C2)=CC(OC)=C2OC', 'C17 H17 F3 N2 O4', '370.325', '6', '3.6', 2, '6', '76.31', '1'], ['BTB01960', 'O=C(OCC)C(C(OCC)=O)=CNC1=C(F)C=CC=C1', 'C14 H16 F N O4', '281.281', '9', '2.78', 1, '5', '64.63', '1'], ['BTB07033', 'N#CCC1=CC=C(C=C1)OCC(C(F)=CC=C2)=C2Cl', 'C15 H11 Cl F N O', '275.709', '4', '3.55', 2, '2', '33.02', '0'], ['MWP00759', 'CC(C(C=CC=C1)=C1S2)=C2COS(C(C=C3)=C(Cl)C=C3Cl)(=O)=O', 'C16 H12 Cl2 O3 S2', '387.306', '4', '5.59', 3, '3', '43.37', '0'], ['BTB02004', 'O=C1C2=C(NC=C1C(OCC)=O)C(C)=CC(Cl)=C2', 'C13 H12 Cl N O3', '265.695', '3', '2.78', 2, '4', '59.16', '1'], ['BTB02009', 'O=C(N1)C2=CC(C)=CC=C2N=C1NC(C(C=C3)=CC=C3[N+]([O-])=O)=O', 'C16 H12 N4 O4', '324.295', '2', '3.04', 3, '8', '120.67', '2'], ['NRB00251', 'FC(F)(F)C1=C(NC(CSC2=NC=CC=N2)=O)C=CC(F)=C1', 'C13 H9 F4 N3 O S', '331.292', '4', '3.96', 2, '4', '54.88', '1'], ['NRB00252', 'FC1=C(C(F)=CC=C1)C2=NC(O)=C(C)S2', 'C10 H7 F2 N O S', '227.233', '1', '2.37', 2, '2', '33.12', '1'], ['MWP00774', 'CC(C(C=CC=C1)=C1S2)=C2C(NC3=CC=C(C(C)C)C=C3)=S', 'C19 H19 N S2', '325.498', '4', '5.33', 3, '1', '12.03', '1'], ['BTB02023', 'OC(C1=O)(CC(C2=CC=C3C(C=CC=C3)=C2)=O)C(C=C4Br)=C(C=C4)N1CN5CCOCC5', 'C25 H23 Br N2 O4', '495.371', '5', '4.34', 5, '6', '70.08', '1']]\n"
          ]
        }
      ]
    },
    {
      "cell_type": "code",
      "source": [
        "print(contador_de_erro)"
      ],
      "metadata": {
        "id": "RYfmt3h4pIHd",
        "outputId": "1e296afc-d800-4db7-a2eb-b029470f7141",
        "colab": {
          "base_uri": "https://localhost:8080/"
        }
      },
      "execution_count": 5,
      "outputs": [
        {
          "output_type": "stream",
          "name": "stdout",
          "text": [
            "100\n"
          ]
        }
      ]
    },
    {
      "cell_type": "code",
      "source": [
        "#importa csv\n",
        "import csv\n",
        "\n",
        "#Abre o arquivo no modo especifico para escrever\n",
        "file = open('./drive/MyDrive/moleculas2.csv', 'w')\n",
        "\n",
        "#Cria uma instancia do escritor de csv\n",
        "writer = csv.writer(file)\n",
        "\n",
        "#Escreve os nomes das colunas\n",
        "writer.writerow(header)\n",
        "\n",
        "#Escreve os valores das moleculas\n",
        "writer.writerows(data)\n",
        "#Fecha o arquivo\n",
        "file.close()"
      ],
      "metadata": {
        "id": "5g7ux_WBF7Tl"
      },
      "execution_count": 6,
      "outputs": []
    }
  ]
}